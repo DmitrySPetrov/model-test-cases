{
 "cells": [
  {
   "cell_type": "code",
   "execution_count": 3,
   "id": "3d4a380e",
   "metadata": {},
   "outputs": [
    {
     "name": "stdout",
     "output_type": "stream",
     "text": [
      "Загружена группировка Starlink\n",
      "Положение КА-586 на эпоху 540.5405405405406:\n",
      "[-1949355.97980246 -3970393.39237647 -5267326.5184538 ]\n"
     ]
    }
   ],
   "source": [
    "from constellation import *\n",
    "\n",
    "from random import random\n",
    "from math import ceil \n",
    "\n",
    "#создание объекта типа Constellation, инициализация параметрами группировки Stalink из конфига\n",
    "constellation = Constellation('Starlink')\n",
    "\n",
    "#вычисление элементов орбиты для всех КА в начальный момент\n",
    "constellation.updateInitialState()\n",
    "\n",
    "# определение точек на оси времени, в которые будут проихзводиться расчёты\n",
    "epochs = (np.linspace(0, 1000, 1000)).tolist()\n",
    "\n",
    "# расчёт положений всех КА в заданные моменты времени\n",
    "constellation.propagateJ2(epochs)\n",
    "\n",
    "\n",
    "# Координаты случайного КА (в инерциальных осях) после этого можно прочитать из constellation.stateEci\n",
    "satIdx = ceil(constellation.totalSatCount * random())\n",
    "epochIdx = ceil(len(epochs) * random())\n",
    "print(\"Положение КА-\" + str(satIdx) + \" на эпоху \" + str(epochs[epochIdx]) + \":\")\n",
    "print(constellation.stateEci[satIdx, :, epochIdx])"
   ]
  },
  {
   "cell_type": "code",
   "execution_count": 4,
   "id": "8e19b232",
   "metadata": {},
   "outputs": [
    {
     "data": {
      "text/plain": [
       "540.5405405405406"
      ]
     },
     "execution_count": 4,
     "metadata": {},
     "output_type": "execute_result"
    }
   ],
   "source": [
    "epochs[epochIdx]"
   ]
  },
  {
   "cell_type": "code",
   "execution_count": 5,
   "id": "fc7aafa0",
   "metadata": {},
   "outputs": [
    {
     "data": {
      "text/plain": [
       "540"
      ]
     },
     "execution_count": 5,
     "metadata": {},
     "output_type": "execute_result"
    }
   ],
   "source": [
    "epochIdx"
   ]
  },
  {
   "cell_type": "code",
   "execution_count": null,
   "id": "8e4b1327",
   "metadata": {},
   "outputs": [],
   "source": []
  }
 ],
 "metadata": {
  "kernelspec": {
   "display_name": "Python 3 (ipykernel)",
   "language": "python",
   "name": "python3"
  },
  "language_info": {
   "codemirror_mode": {
    "name": "ipython",
    "version": 3
   },
   "file_extension": ".py",
   "mimetype": "text/x-python",
   "name": "python",
   "nbconvert_exporter": "python",
   "pygments_lexer": "ipython3",
   "version": "3.9.7"
  }
 },
 "nbformat": 4,
 "nbformat_minor": 5
}
